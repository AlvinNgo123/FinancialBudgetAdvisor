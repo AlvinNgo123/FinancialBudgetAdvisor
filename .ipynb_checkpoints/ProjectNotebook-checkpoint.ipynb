{
 "cells": [
  {
   "cell_type": "markdown",
   "metadata": {},
   "source": [
    "# Project Description"
   ]
  },
  {
   "cell_type": "markdown",
   "metadata": {},
   "source": [
    "For my project, I chose to build a virtual financial advisor who will help the user adjust their current budget in order to save money. The virtual advisor will ask the user a series of questions that will help it understand what the user's current budget is like and how much it should adjust that budget. At the end, the user will be provided a budget that they can utilize to keep their finances in check."
   ]
  },
  {
   "cell_type": "markdown",
   "metadata": {},
   "source": [
    "## Project Code"
   ]
  },
  {
   "cell_type": "markdown",
   "metadata": {},
   "source": [
    "First, we will import the functions.py file so that we can run the program within this notebook. "
   ]
  },
  {
   "cell_type": "code",
   "execution_count": 1,
   "metadata": {
    "collapsed": true,
    "scrolled": true
   },
   "outputs": [],
   "source": [
    "import my_module.functions as f"
   ]
  },
  {
   "cell_type": "markdown",
   "metadata": {},
   "source": [
    "Second, we can run pytest so that it can go through all my created tests in test_functions.py. The test should take about 24 seconds."
   ]
  },
  {
   "cell_type": "code",
   "execution_count": 2,
   "metadata": {},
   "outputs": [
    {
     "name": "stdout",
     "output_type": "stream",
     "text": [
      "\u001b[1m============================= test session starts ==============================\u001b[0m\n",
      "platform darwin -- Python 3.6.8, pytest-3.2.1, py-1.4.34, pluggy-0.4.0\n",
      "rootdir: /Users/alvinngo/Desktop/FinancialBudgetAdvisor, inifile:\n",
      "collected 12 items                                                              \u001b[0m\u001b[1m\n",
      "\n",
      "my_module/test_functions.py ............\n",
      "\n",
      "\u001b[32m\u001b[1m========================== 12 passed in 24.26 seconds ==========================\u001b[0m\n"
     ]
    }
   ],
   "source": [
    "!pytest"
   ]
  },
  {
   "cell_type": "markdown",
   "metadata": {},
   "source": [
    "Finally, we can run the start_program function in functions.py which is basically a script that will run the interactive program from start to finish. Have fun!"
   ]
  },
  {
   "cell_type": "code",
   "execution_count": 4,
   "metadata": {
    "scrolled": true
   },
   "outputs": [
    {
     "name": "stdout",
     "output_type": "stream",
     "text": [
      "Hi, my name is Vifa and I will be your virtual financial advisor!\n",
      "My goal is to help you come up with a financial plan based on your current spending and your desired spending.\n",
      "Please type in your name here: Alvin\n",
      "Nice to meet you, Alvin! Well, let's begin with some questions on your current spending?\n",
      "Please enter your monthly spending amount on housing (rent, mortgage, etc): 650\n",
      "Please enter your monthly spending amount on utilities (cell phone, internet, etc): 120\n",
      "Please enter your monthly spending amount on food (groceries, restaurants, etc): 345\n",
      "Please enter your monthly spending amount on transportation (gas, public transit, etc): 100\n",
      "Please enter your monthly spending amount on entertainment (travel, subscription services, etc): 234\n",
      "Please enter your monthly spending amount on personal (clothing, gifts, etc): 197\n",
      "Thank you, Alvin. From my calculations, it seems that your current monthly spending totals to 1646.0\n",
      "How much savings do you want for this new budget?\n",
      "1 = Conservative, 2 = Moderate, 3 = Intense\n",
      "Please enter the number that best corresponds to how much you want me to adjust the budget: 2\n",
      "Perfect! Thank you Alvin.\n",
      "To help me finalize your new budget breakdown, could you rank your categories from LEAST flexible to MOST flexible?\n",
      "Do not number each category and separate each category with a comma.\n",
      "For your convenience, the 6 categories are housing, utilities, food, transportation, entertainment, and personal.\n",
      "Here is an example ranking input: transportation, housing, utilities, entertainment, food, personal\n",
      "Type out your ranking here: transportation, housing, utilities, entertainment, food, personal\n",
      "Alright, after taking everything into consideration...Here is your new budget breakdown!\n",
      "transportation: 100.0\n",
      "housing: 617.5\n",
      "utilities: 108.0\n",
      "entertainment: 198.9\n",
      "food: 258.75\n",
      "personal: 128.05\n",
      "Thank you for letting me help you save money and have a great day!\n"
     ]
    }
   ],
   "source": [
    "f.start_program()"
   ]
  },
  {
   "cell_type": "markdown",
   "metadata": {},
   "source": [
    "#### Extra Credit \n",
    " \n",
    "1. My Python background is fairly basic. I've used python before when running some basic scripts but I've coded mostly in other languages since the CS courses at UCSD don't teach you in Python. Therefore, despite being familiar with the majority of the CS fundamentals, I felt this class really allowed me to focus down on the unique syntax and nuanaces of Python.\n",
    "2. I felt that I was able to really challenge myself in the testing of the project. Since I started the project fairly early, my code format involved using the python input function which didn't allow for the normal way of testing. While the project requirement was to test just 2 functions (at least), I wanted to try and test every function in my program. With this goal in mind, I had to learn about mocking user input and knowing when and how to pass those inputs into our functions to test them properly. The code example that really guided me through this process is linked here: https://stackoverflow.com/questions/56300124/how-efficiently-unit-test-a-function-with-multiple-input-calls "
   ]
  },
  {
   "cell_type": "code",
   "execution_count": null,
   "metadata": {
    "collapsed": true
   },
   "outputs": [],
   "source": []
  }
 ],
 "metadata": {
  "kernelspec": {
   "display_name": "Python 3",
   "language": "python",
   "name": "python3"
  },
  "language_info": {
   "codemirror_mode": {
    "name": "ipython",
    "version": 3
   },
   "file_extension": ".py",
   "mimetype": "text/x-python",
   "name": "python",
   "nbconvert_exporter": "python",
   "pygments_lexer": "ipython3",
   "version": "3.6.8"
  }
 },
 "nbformat": 4,
 "nbformat_minor": 2
}
